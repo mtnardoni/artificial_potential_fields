{
 "cells": [
  {
   "cell_type": "markdown",
   "metadata": {},
   "source": [
    "# Laboratorio Automation"
   ]
  },
  {
   "cell_type": "markdown",
   "metadata": {},
   "source": [
    "In questo elaborato vengono creati degli agenti disposti in formazione geometrica (che potrà essere generata casualmente oppure potrà essere definita manualmente) con l'obiettivo che questi raggiungano un punto di goal (anche esso casuale o definito manualmente) grazie all'azione del Campo di Potenziale Totale, il quale si compone dei seguenti elementi opportunamente pesati da delle costanti:\n",
    "\n",
    "- Potenziale attrattivo verso il goal\n",
    "- Potenziale repulsivo verso gli ostacoli\n",
    "- Potenziale di formazione\n",
    "\n",
    "$J_{tot}(x) = k_{att}J_{att}(x) + k_{rep}J_{rep}(x) + k_{form}J_{form}(x)$\n",
    "\n",
    "L'ambiente considerato presenta degli ostacoli che potranno essere definiti manualmente o casualmente.\n",
    "\n"
   ]
  },
  {
   "cell_type": "code",
   "execution_count": 1,
   "metadata": {},
   "outputs": [],
   "source": [
    "import numpy as np\n",
    "import matplotlib.pyplot as plt\n",
    "from matplotlib.animation import FuncAnimation\n",
    "import imageio\n",
    "import io"
   ]
  },
  {
   "cell_type": "markdown",
   "metadata": {},
   "source": [
    "In questo blocco di codice andiamo a definire la posizione del goal e quella degli ostacoli, che potranno essere modificate in modo che assumano posizioni casuali o manuali. Andiamo a definire inoltre il valore di:\n",
    "- $\\delta$: distanza di sicurezza (*delta_d* nel codice)\n",
    "- $\\delta_{0}$: distanza di influenza dell'ostacolo (*d_0* nel codice)\n",
    " \n",
    "\n",
    "Nel problema è stata considerata una stanza dalle dimensioni 50x50."
   ]
  },
  {
   "cell_type": "code",
   "execution_count": 99,
   "metadata": {},
   "outputs": [],
   "source": [
    "# definizione posizione del goal\n",
    "\n",
    "goal = np.array([40.0, 40.0]) \n",
    "#goal = np.random.uniform(0, 50, size=2)  # per generare un goal randomico entro i confini della stanza\n",
    "\n",
    "\n",
    "# definizione ostacoli (muri)\n",
    "\n",
    "# generazione manuale di ostacoli\n",
    "\n",
    "# x_min, y_min, x_max, y_max\n",
    "\n",
    "obstacles = np.array([\n",
    "    \n",
    "    # muri confine stanza\n",
    "\n",
    "    [0.0, 0.0, 50.0, 1.0],  # muro inferiore\n",
    "    [0.0, 49.0, 50.0, 50.0],  # muro superiore\n",
    "    [0.0, 0.0, 1.0, 50.0],  # muro sinistro\n",
    "    [49.0, 0.0, 50.0, 50.0],  # muro destro\n",
    "\n",
    "    # muri interni\n",
    "\n",
    "    [0.0, 30.0, 21.0, 31.0],  \n",
    "    [25.0, 38.0, 26.0, 50.0], \n",
    "    [32.0, 25.0, 50.0, 26.0],  \n",
    "    [35.0, 0.0, 36.0, 15.0]\n",
    "])\n",
    "\n",
    "# generazione ostacoli casuali\n",
    "\n",
    "def generate_random_obstacles(num_obstacles, x_min=0, y_min=0, x_max=50, y_max=50, min_size=1, max_size=10):\n",
    "    obstacles = []\n",
    "    for _ in range(num_obstacles):\n",
    "\n",
    "        x1 = np.random.uniform(x_min, x_max)\n",
    "        y1 = np.random.uniform(y_min, y_max)\n",
    "\n",
    "\n",
    "        width = np.random.uniform(min_size, max_size)\n",
    "        height = np.random.uniform(min_size, max_size)\n",
    "\n",
    "        # controllo su x_max e y_max in modo che non superino il confine\n",
    "        x2 = min(x1 + width, x_max)\n",
    "        y2 = min(y1 + height, y_max)\n",
    "\n",
    "        obstacles.append([x1, y1, x2, y2])\n",
    "    \n",
    "    return np.array(obstacles)\n",
    "\n",
    "#obstacles = generate_random_obstacles(10)\n",
    "#print(obstacles)\n",
    "\n",
    "\n",
    "delta_d = 1.5  # distanza di sicurezza invalicabile\n",
    "d_0 = 3.0  # raggio d'influenza dell'ostacolo"
   ]
  },
  {
   "cell_type": "markdown",
   "metadata": {},
   "source": [
    "Andiamo a definire adesso il numero di agenti e il raggio della formazione (distanza rispetto al centroide). "
   ]
  },
  {
   "cell_type": "code",
   "execution_count": 100,
   "metadata": {},
   "outputs": [],
   "source": [
    "num_agents = 5 \n",
    "radius = 3.0"
   ]
  },
  {
   "cell_type": "markdown",
   "metadata": {},
   "source": [
    "Andiamo ad inizializzare la formazione degli agenti usando le seguenti funzioni:\n",
    "- **is_admissible()**: verifica che la formazione degli agenti sia ammissibile, ovvero che non vada ad occupare una posizione già occupata da un ostacolo\n",
    "- **initialize_geometrical_formation()**: dispone gli agenti in modo geometrico, precisamente lungo una circonferenza, con un angolo di separazione uniforme tra ciascun agente. Per fare questo dobbiamo specificare il centro della formazione (manualmente o generato casualmente)\n",
    "\n",
    "è stata definita inoltre una funzione per calcolare il centro della formazione:\n",
    "- **calculate_centroid()**"
   ]
  },
  {
   "cell_type": "code",
   "execution_count": 101,
   "metadata": {},
   "outputs": [],
   "source": [
    "# controllo posizioni ammissibili agenti\n",
    "def is_admissible(position, obstacles):\n",
    "    for obs in obstacles:\n",
    "        x_min, y_min, x_max, y_max = obs\n",
    "        \n",
    "        if x_min <= position[0] <= x_max and y_min <= position[1] <= y_max:\n",
    "            return False\n",
    "        \n",
    "    return True  \n",
    "\n",
    "def initialize_geometrical_formation(num_agents, obstacles, radius, max_attempts=50):\n",
    "    positions = []\n",
    "    angle_step = 2 * np.pi / num_agents  # angolo di separazione tra i nodi (360° / numero di nodi)\n",
    "    attempts = 0 # controllo nel caso formazione non ammissibile\n",
    "\n",
    "    while len(positions) < num_agents and attempts < max_attempts:\n",
    "\n",
    "        # centro della formazione\n",
    "        center = np.array([8.0, 8.0])  # centro della formazione\n",
    "        #center = np.random.uniform(0, 50, size=2) # centro della formazione randomico\n",
    "\n",
    "        # posizione di ogni agente\n",
    "        for i in range(num_agents):\n",
    "            angle = i * angle_step\n",
    "            position = center + radius * np.array([np.cos(angle), np.sin(angle)])\n",
    "\n",
    "            # controllo posizione ammissibile\n",
    "            if is_admissible(position, obstacles):\n",
    "                    positions.append(position)\n",
    "\n",
    "        # controllo per avere tutte posizioni ammissibili\n",
    "        if len(positions) < num_agents:\n",
    "            positions.clear()\n",
    "            attempts += 1\n",
    "            continue\n",
    "    \n",
    "    if len(positions) == num_agents:\n",
    "        print(\"Formazione ammissibile\")\n",
    "    else:\n",
    "        print(\"Formazione non ammissibile\")\n",
    "    \n",
    "    return np.array(positions)\n",
    "\n",
    "def calculate_centroid(positions):\n",
    "    return np.mean(positions, axis=0)"
   ]
  },
  {
   "cell_type": "markdown",
   "metadata": {},
   "source": [
    "Una volta definite le posizioni degli agenti andiamo a stamparle per verificare che queste siano ammissibili. Nel caso contrario possiamo ridefinirle manualmente o casualmente (in quest'ultimo caso sono stati considerati _50 tentativi_ di rigenerazione)"
   ]
  },
  {
   "cell_type": "code",
   "execution_count": 102,
   "metadata": {},
   "outputs": [
    {
     "name": "stdout",
     "output_type": "stream",
     "text": [
      "Formazione ammissibile\n",
      "\n",
      "Posizioni degli agenti:\n",
      "Agente 1: [11.  8.]\n",
      "Agente 2: [ 8.92705098 10.85316955]\n",
      "Agente 3: [5.57294902 9.76335576]\n",
      "Agente 4: [5.57294902 6.23664424]\n",
      "Agente 5: [8.92705098 5.14683045]\n",
      "\n",
      "Centroide della formazione:\n",
      "x: 8.0, y: 8.0\n"
     ]
    }
   ],
   "source": [
    "positions = initialize_geometrical_formation(num_agents, obstacles, radius, max_attempts=50)\n",
    "\n",
    "if len(positions) > 0:\n",
    "    print(\"\\nPosizioni degli agenti:\")\n",
    "    for i, pos in enumerate(positions):\n",
    "        print(f\"Agente {i+1}:\", pos)\n",
    "    \n",
    "    centroid = calculate_centroid(positions)\n",
    "\n",
    "    print(\"\\nCentroide della formazione:\")\n",
    "    print(f\"x: {centroid[0]}, y: {centroid[1]}\")\n",
    "else:\n",
    "    print(\"Gli agenti non hanno posizioni ammissibili\")"
   ]
  },
  {
   "cell_type": "markdown",
   "metadata": {},
   "source": [
    "Andiamo a disegnare l'ambiente completo di agenti, goal ed ostacoli per visualizzare graficamente il problema.  \n",
    "Sono stati riportati due grafici in modo da visualizzare dove cominceranno ad agire $\\delta$ e $\\delta_{0}$"
   ]
  },
  {
   "cell_type": "code",
   "execution_count": 103,
   "metadata": {},
   "outputs": [
    {
     "data": {
      "image/png": "[encoded data removed]",
      "text/plain": [
       "<Figure size 1200x600 with 2 Axes>"
      ]
     },
     "metadata": {},
     "output_type": "display_data"
    }
   ],
   "source": [
    "def draw_environment(goal, obstacles, delta_d, d_0, agents=None, include_deltas=True, ax=None):\n",
    "    if ax is None:\n",
    "        fig, ax = plt.subplots()\n",
    "\n",
    "    ax.scatter(goal[0], goal[1], marker='*', color='red', s=150)\n",
    "    ax.annotate('Goal', (goal[0], goal[1]), textcoords=\"offset points\", xytext=(0, 10), ha='center', va='bottom', color='red', fontsize=11)\n",
    "\n",
    "    for obs in obstacles:    \n",
    "        x_min, y_min, x_max, y_max = obs\n",
    "        rect = plt.Rectangle((x_min, y_min), x_max - x_min, y_max - y_min, linewidth=2, edgecolor='black', facecolor='black')\n",
    "        ax.add_patch(rect)\n",
    "\n",
    "        if include_deltas:\n",
    "\n",
    "            # distanza influenza (d_0)\n",
    "            rect_d0 = plt.Rectangle(\n",
    "                (x_min - d_0, y_min - d_0),  \n",
    "                (x_max - x_min) + 2 * d_0,  \n",
    "                (y_max - y_min) + 2 * d_0,  \n",
    "                linewidth=1, edgecolor='black', facecolor='black', alpha=0.1)\n",
    "            ax.add_patch(rect_d0)\n",
    "\n",
    "            # distanza di sicurezza (delta_d)\n",
    "            rect_delta_d = plt.Rectangle(\n",
    "                (x_min - delta_d, y_min - delta_d),\n",
    "                (x_max - x_min) + 2 * delta_d, \n",
    "                (y_max - y_min) + 2 * delta_d,\n",
    "                linewidth=1, edgecolor='black', facecolor='black', alpha=0.15)\n",
    "            ax.add_patch(rect_delta_d)\n",
    "\n",
    "    if agents is not None:\n",
    "        agents_x = [pos[0] for pos in agents]\n",
    "        agents_y = [pos[1] for pos in agents]\n",
    "        ax.scatter(agents_x, agents_y, marker='o', color='blue', s=50)\n",
    "\n",
    "        for idx, (x, y) in enumerate(agents):\n",
    "            ax.text(x, y + 1, str(idx+1), color='black', fontsize=10, ha='center', va='bottom')\n",
    "\n",
    "    ax.set_xlabel('x')\n",
    "    ax.set_ylabel('y')\n",
    "    ax.set_xlim(0, 50)  \n",
    "    ax.set_ylim(0, 50)  \n",
    "    ax.set_title('Environment')\n",
    "\n",
    "fig, (ax1, ax2) = plt.subplots(1, 2, figsize=(12, 6))\n",
    "\n",
    "draw_environment(goal, obstacles, delta_d, d_0, agents=positions, include_deltas=True, ax=ax1)\n",
    "draw_environment(goal, obstacles, delta_d, d_0, agents=positions, include_deltas=False, ax=ax2)\n",
    "\n",
    "plt.tight_layout()\n",
    "plt.show()     "
   ]
  },
  {
   "cell_type": "markdown",
   "metadata": {},
   "source": [
    "Adesso andiamo a definire i potenziali che agiranno nel Campo di Potenziale Totale."
   ]
  },
  {
   "cell_type": "markdown",
   "metadata": {},
   "source": [
    ">Potenziale Attrattivo verso il goal\n",
    "\n",
    "Il potenziale attrattivo implementato è quello quadratico, questo viene definito come:\n",
    "\n",
    "#### $J_{att}(x) = \\frac{1}{2} ||x - x_{G}||^2$\n",
    "\n",
    "da cui il corrispettivo antigradiente:\n",
    "\n",
    "### $- \\frac{\\partial J_{att}}{\\partial x} = x_{G} - x$\n",
    "\n",
    "oppurtanamente pesato da $k_{att}$\n",
    "\n",
    "\n"
   ]
  },
  {
   "cell_type": "code",
   "execution_count": 91,
   "metadata": {},
   "outputs": [],
   "source": [
    "def attractive_potential(position, goal, k_att=1.0):\n",
    "    if k_att == 0:\n",
    "        return 0, np.zeros_like(position)\n",
    "    \n",
    "    diff = goal - position\n",
    "    # potenziale attrattivo: (1/2 * costante * ||x_goal - x||^2)\n",
    "    pot = 0.5 * k_att * np.linalg.norm(diff)**2\n",
    "    # gradiente attrattivo: (costante * (x_goal - x))\n",
    "    grad = k_att * diff\n",
    "    \n",
    "    return pot, grad"
   ]
  },
  {
   "cell_type": "markdown",
   "metadata": {},
   "source": [
    ">Potenziale Repulsivo verso gli ostacoli  \n",
    "\n",
    "Definita la distanza tra un agente e un ostacolo come:  \n",
    "##### $d(q, O_k) = \\min\\limits_{q' \\in O_k} ||q - q'||$\n",
    "\n",
    "dove $q'$ rappresenta il punto dell'ostacolo a minima distanza dall'agente\n",
    "\n",
    "\n",
    "Il potenziale repulsivo per un agente rispetto all'ostacolo $O_k$ è:\n",
    "\n",
    "#### $ J_{rep,k}(q) = \\begin{cases} 0  & \\text{se} & d(q, O_k) \\geq δ_0 \\\\ \\frac{1}{2}(\\frac{1}{d(q, O_k) - δ} - \\frac{1}{δ_0 - δ})^2 & \\text{se} & d(q, O_k) < δ_0 \\\\ \\end{cases} $\n",
    "\n",
    "dove $δ_0$ è la distanza di influenza dell'ostacolo e $δ$ è quella di sicurezza.\n",
    "\n",
    "L'antigradiente corrispettivo è definito come:\n",
    "\n",
    "#### $- \\frac{\\partial J_{rep,k}(q)}{\\partial q} = \\begin{cases} 0  & \\text{se} & d(q, O_k) \\geq δ_0 \\\\ (\\frac{1}{d(q, O_k) - δ} - \\frac{1}{δ_0 - δ}) \\frac{1}{(d(q, O_k) - δ)^2} & \\text{se} & d(q, O_k) < δ_0 \\\\ \\end{cases} $\n",
    "\n",
    "oppurtanamente pesato da $k_{rep}$\n",
    "\n"
   ]
  },
  {
   "cell_type": "code",
   "execution_count": 92,
   "metadata": {},
   "outputs": [],
   "source": [
    "def repulsive_potential(positions, obstacles, delta_d, d_0, k_obstacle, max_force = 100):\n",
    "    gradients = np.zeros_like(positions, dtype=np.float64)  # inizializza i gradienti a zero\n",
    "    \n",
    "    for obs in obstacles:\n",
    "        x_min, y_min, x_max, y_max = obs\n",
    "\n",
    "        for i, agent_pos in enumerate(positions):\n",
    "            # trovamio il punto più vicino dell'ostacolo rispetto all'agente e calcoliamone la distanza\n",
    "            closest_x = np.clip(agent_pos[0], x_min, x_max)\n",
    "            closest_y = np.clip(agent_pos[1], y_min, y_max)\n",
    "            closest_point = np.array([closest_x, closest_y])\n",
    "\n",
    "            distance_to_obstacle = np.linalg.norm(agent_pos - closest_point) # q - q'\n",
    "\n",
    "            # direzione della forza repulsiva\n",
    "            direction = agent_pos - closest_point\n",
    "            if np.linalg.norm(direction) > 0:\n",
    "                direction = direction.astype(np.float64)\n",
    "                direction /= np.linalg.norm(direction)  # normalizza la direzione\n",
    "\n",
    "            # se la distanza è inferiore a delta_d, applichiamo una forza molto grande invalicabile\n",
    "            if distance_to_obstacle < delta_d:\n",
    "                force = 1000 * direction\n",
    "                \n",
    "            # calcolo gradiente repulsivo    \n",
    "            elif delta_d <= distance_to_obstacle < d_0:\n",
    "                term1 = 1 / (distance_to_obstacle - delta_d)\n",
    "                term2 = 1 / (d_0 - delta_d)\n",
    "                grad = k_obstacle * (term1 - term2) * term1**2\n",
    "                force = grad * direction\n",
    "            else:    \n",
    "                force = np.array([0.0, 0.0])\n",
    "\n",
    "            # saturazione per evitare che gli agenti vengano spinti fuori dai confini dell'ambiente\n",
    "            force_magnitude = np.linalg.norm(force) # scalare\n",
    "            if force_magnitude > max_force:\n",
    "                force = force * (max_force / force_magnitude)\n",
    "\n",
    "            gradients[i] += force\n",
    "\n",
    "    return gradients"
   ]
  },
  {
   "cell_type": "markdown",
   "metadata": {},
   "source": [
    ">Potenziale di Formazione\n",
    "\n",
    "Definiamo la distanza desiderata (*desired_radius* nel codice)\n",
    "tra coppie di agenti $i, j$ come:\n",
    "\n",
    "##### $||x_i - x_j|| = \\delta_{i, j}$   $\\forall i, j$\n",
    "\n",
    "Il potenziale attrattivo tra coppie di agenti è:\n",
    "\n",
    "$J_{for}(x) = \\sum_{\\{i, j\\in \\varepsilon \\}} J_{ij} (x_i, x_j)$\n",
    "\n",
    "L'antigradiente per l'agente $i$ si definisce come:\n",
    "\n",
    "#### $- \\frac{\\partial J_{for}}{\\partial x_i} \\Big|_{x = x(t)} = \\sum_{\\{j\\in N_i \\}} (||x_i - x_j||^2 - \\delta_{i, j}^2)(x_j - x_i) $\n",
    "\n",
    "opportunamente pesato da $k_{form}$\n",
    "\n",
    "In questo codice il potenziale di formazione è stato diviso in due parti:\n",
    "- una parte prende in considerazione il **potenziale tra agenti** \n",
    "- un parte prende in considerazione il **potenziale tra il singolo agente e il centroide della formazione**\n",
    "\n",
    "rispettivamente e oppurtunamente pesati da $k_{agents}$ e $k_{center}$\n",
    "\n",
    "Il gradiente di formazione totale è la somma di questi due contributi\n",
    "\n"
   ]
  },
  {
   "cell_type": "code",
   "execution_count": 93,
   "metadata": {},
   "outputs": [],
   "source": [
    "def formation_potential(positions, desired_radius, k_agents, k_center):\n",
    "    num_agents = len(positions)\n",
    "    gradients = np.zeros_like(positions, dtype=np.float64)\n",
    "\n",
    "    centroid = calculate_centroid(positions)\n",
    "\n",
    "    for i in range(num_agents):\n",
    "        agent_pos = positions[i]\n",
    "\n",
    "        # forza attrattiva verso il centroide\n",
    "        diff_cen = centroid - agent_pos\n",
    "        dist_cen = np.linalg.norm(diff_cen)\n",
    "\n",
    "        if dist_cen > 0:\n",
    "            force_att = k_center * (dist_cen**2 - desired_radius**2) * (diff_cen)\n",
    "            gradients[i] += force_att\n",
    "\n",
    "        # forza repulsiva tra agenti\n",
    "        for j in range(num_agents):\n",
    "            if i != j:\n",
    "                agent_pos_ni = positions[j]\n",
    "                diff_agents = agent_pos - agent_pos_ni # agente i e altro agente (vicino di i)\n",
    "                dist_agents = np.linalg.norm(diff_agents)\n",
    "\n",
    "                if dist_agents > 0 and dist_agents < desired_radius:\n",
    "                    force_rep = - k_agents * (dist_agents**2 - desired_radius**2) * (diff_agents)\n",
    "\n",
    "                    gradients[i] += force_rep \n",
    "\n",
    "    return gradients"
   ]
  },
  {
   "cell_type": "markdown",
   "metadata": {},
   "source": [
    "Una volta definite l'environment e i gradienti utilizzati andiamo a settare i parametri della simulazione. In particolare definiamo il learning rate per quantificare quanto sarà grande il passo di aggiornamento. \n",
    "\n",
    "NB: la distanza desiderata è impostata uguale al _radius_ ovvero il raggio della formazione definito a inizio codice, tuttavia è possibile andare anche a modificare il raggio nel caso si vogliano fare delle simulazioni in cui all'inizio gli agenti si trovano ad una certa distanza per poi regolarsi in modo da raggiungere quella desiderata."
   ]
  },
  {
   "cell_type": "code",
   "execution_count": 109,
   "metadata": {},
   "outputs": [],
   "source": [
    "k_obstacle = 0.5\n",
    "k_att = 0.3\n",
    "learning_rate = 0.01 #0.0000001\n",
    "num_steps = 1500\n",
    "delta_d = 1.5  # distanza di sicurezza invalicabile\n",
    "d_0 = 3.0 # raggio di influenza dell'ostacolo\n",
    "desired_radius = radius\n",
    "#desired_radius = 2.0  # raggio desiderato della formazione\n",
    "k_agents = 1.0  # costante di repulsione tra agenti\n",
    "k_center = 1.0  # costante di attrazione verso il centroide"
   ]
  },
  {
   "cell_type": "code",
   "execution_count": null,
   "metadata": {},
   "outputs": [
    {
     "name": "stdout",
     "output_type": "stream",
     "text": [
      "Formazione ammissibile\n",
      "Agente 1, \n",
      "Posizione [11.  8.] \n",
      "Gradiente Attrattivo [8.7 9.6] \n",
      "Gradiente Repulsivo: [0. 0.] \n",
      "Gradiente di Formazione: [0. 0.]\n",
      "\n",
      "Agente 2, \n",
      "Posizione [ 8.92705098 10.85316955] \n",
      "Gradiente Attrattivo [9.32188471 8.74404914] \n",
      "Gradiente Repulsivo: [0. 0.] \n",
      "Gradiente di Formazione: [-3.29354671e-15 -1.01364945e-14]\n",
      "\n",
      "Agente 3, \n",
      "Posizione [5.57294902 9.76335576] \n",
      "Gradiente Attrattivo [10.32811529  9.07099327] \n",
      "Gradiente Repulsivo: [0. 0.] \n",
      "Gradiente di Formazione: [-4.31130861e-15  3.13234906e-15]\n",
      "\n",
      "Agente 4, \n",
      "Posizione [5.57294902 6.23664424] \n",
      "Gradiente Attrattivo [10.32811529 10.12900673] \n",
      "Gradiente Repulsivo: [0. 0.] \n",
      "Gradiente di Formazione: [0. 0.]\n",
      "\n",
      "Agente 5, \n",
      "Posizione [8.92705098 5.14683045] \n",
      "Gradiente Attrattivo [ 9.32188471 10.45595086] \n",
      "Gradiente Repulsivo: [0. 0.] \n",
      "Gradiente di Formazione: [0. 0.]\n",
      "\n"
     ]
    }
   ],
   "source": [
    "#positions = initialize_geometrical_formation(num_agents, obstacles, radius, max_attempts=50) # da commentare se si usano le posizioni randomiche, se si usano quelle manuali si può lasciare commentanto o senza commento per ri-inizializzare la formazione\n",
    "\n",
    "for i, pos in enumerate(positions):\n",
    "    _, grad_att = attractive_potential(positions, goal, k_att)\n",
    "    grad_rep = repulsive_potential(positions, obstacles, delta_d, d_0, k_obstacle)\n",
    "    grad_form = formation_potential(positions, desired_radius, k_agents, k_center)\n",
    "    print(f\"Agente {i+1}, \\nPosizione {pos} \\nGradiente Attrattivo {grad_att[i]} \\nGradiente Repulsivo: {grad_rep[i]} \\nGradiente di Formazione: {grad_form[i]}\\n\")"
   ]
  },
  {
   "cell_type": "markdown",
   "metadata": {},
   "source": [
    "Le posizioni degli agenti nel tempo vengono aggiornate secondo la formula di discesa del gradiente:\n",
    "\n",
    "##### $x_{i}(t+1) = x_{i}(t) - \\epsilon \\frac{\\partial J(x)}{\\partial x_i}\\Bigr|_{\\substack{x=x(t)}}$\n",
    "\n",
    "considerando il gradiente totale dei potenziali che agiscono sul singolo agente _i_"
   ]
  },
  {
   "cell_type": "code",
   "execution_count": 111,
   "metadata": {},
   "outputs": [],
   "source": [
    "def update_positions(agents_positions, obstacles, goal, delta_d, d_0, \n",
    "                     k_obstacle, k_att, k_agents, k_center, desired_radius, learning_rate):\n",
    "    \n",
    "    # gradiente potenziale repulsivo dagli ostacoli\n",
    "    grad_rep = repulsive_potential(agents_positions, obstacles, delta_d, d_0, k_obstacle)\n",
    "    \n",
    "    # gradiente potenziale attrattivo verso il goal\n",
    "    grad_att = np.array([attractive_potential(pos, goal, k_att)[1] for pos in agents_positions]) if k_att > 0 else np.zeros_like(agents_positions)\n",
    "    \n",
    "    # gradiente potenziale di formazione\n",
    "    grad_formation = formation_potential(agents_positions, desired_radius, k_agents, k_center)\n",
    "\n",
    "    total_gradient = grad_rep + grad_att + grad_formation \n",
    "    new_positions = agents_positions + learning_rate * total_gradient\n",
    "\n",
    "    return new_positions"
   ]
  },
  {
   "cell_type": "markdown",
   "metadata": {},
   "source": [
    "Infine salviamo una .gif relativa alla simulazione scelta, in particolare possiamo decidere il parametro _duration_ nel seguente modo per modellare a piacimento la velocità della .gif:\n",
    "\n",
    "- più è **basso** il valore, più la .gif sarà **veloce**\n",
    "- più è **alto** il valore, più la .gif sarà **lenta**"
   ]
  },
  {
   "cell_type": "code",
   "execution_count": 112,
   "metadata": {},
   "outputs": [
    {
     "name": "stderr",
     "output_type": "stream",
     "text": [
      "C:\\Users\\noble\\AppData\\Local\\Temp\\ipykernel_24060\\262282825.py:29: DeprecationWarning: Starting with ImageIO v3 the behavior of this function will switch to that of iio.v3.imread. To keep the current behavior (and make this warning disappear) use `import imageio.v2 as imageio` or call `imageio.v2.imread` directly.\n",
      "  images.append(imageio.imread(buf))\n"
     ]
    }
   ],
   "source": [
    "def save_gif():\n",
    "    images = []\n",
    "    for step in range(num_steps):\n",
    "        fig, ax = plt.subplots()\n",
    "        \n",
    "        global positions\n",
    "        positions = update_positions(positions, obstacles, goal, delta_d, d_0, k_obstacle, k_att, k_agents, k_center, desired_radius, learning_rate)\n",
    "        \n",
    "        for obs in obstacles:\n",
    "            x_min, y_min, x_max, y_max = obs\n",
    "            rect = plt.Rectangle((x_min, y_min), x_max - x_min, y_max - y_min, linewidth=2, edgecolor='black', facecolor='black')\n",
    "            ax.add_patch(rect)\n",
    "        \n",
    "        ax.scatter(goal[0], goal[1], marker='*', color='red', s=150)\n",
    "        ax.annotate('Goal', (goal[0], goal[1]), textcoords=\"offset points\", xytext=(0, 10), ha='center', va='bottom', color='red', fontsize=11)\n",
    "        \n",
    "        ax.scatter(positions[:, 0], positions[:, 1], color='blue', s=50)\n",
    "        \n",
    "        ax.set_xlim(0, 50)\n",
    "        ax.set_ylim(0, 50)\n",
    "        ax.set_xlabel('x')\n",
    "        ax.set_ylabel('y')\n",
    "        ax.set_title('Total Artificial Potential Field')\n",
    "\n",
    "        # salva il frame in un buffer + generazione gif\n",
    "        buf = io.BytesIO()\n",
    "        plt.savefig(buf, format='png')\n",
    "        buf.seek(0)\n",
    "        images.append(imageio.imread(buf))\n",
    "        plt.close()\n",
    "\n",
    "    # crea la .gif\n",
    "    imageio.mimsave('agents_no_random.gif', images, duration=1.0)  # durata tra i frame in secondi (fps)\n",
    "\n",
    "save_gif()"
   ]
  }
 ],
 "metadata": {
  "kernelspec": {
   "display_name": "agents",
   "language": "python",
   "name": "python3"
  },
  "language_info": {
   "codemirror_mode": {
    "name": "ipython",
    "version": 3
   },
   "file_extension": ".py",
   "mimetype": "text/x-python",
   "name": "python",
   "nbconvert_exporter": "python",
   "pygments_lexer": "ipython3",
   "version": "3.9.21"
  }
 },
 "nbformat": 4,
 "nbformat_minor": 2
}
